{
  "cells": [
    {
      "cell_type": "code",
      "execution_count": 1,
      "metadata": {
        "id": "e0-4d6V6bAHl"
      },
      "outputs": [
        {
          "name": "stdout",
          "output_type": "stream",
          "text": [
            "\u001b[33muser_proxy\u001b[0m (to assistant):\n",
            "\n",
            "Hello, who are you?\n",
            "\n",
            "--------------------------------------------------------------------------------\n",
            "\u001b[33massistant\u001b[0m (to user_proxy):\n",
            "\n",
            " Hello! I am an AI language model designed to help you with tasks and provide information. My name is not important, but I'm here to assist you. How can I help you today?\n",
            "\n",
            "--------------------------------------------------------------------------------\n"
          ]
        }
      ],
      "source": [
        "import autogen\n",
        "\n",
        "# change config_list based on used model and lm studio API endpoint\n",
        "config_list = [\n",
        "    {\n",
        "        \"model\": \"TheBloke/Mistral-7B-Instruct-v0.1-GGUF\",\n",
        "        \"base_url\": \"http://localhost:1234/v1\",\n",
        "        \"api_key\": \"lm-studio\",\n",
        "    }\n",
        "]\n",
        "llm_config = {\n",
        "    \"cache_seed\": 41,\n",
        "    \"config_list\": config_list,\n",
        "    \"temperature\": 0,\n",
        "}\n",
        "\n",
        "\n",
        "assistant = autogen.AssistantAgent(\n",
        "    name=\"assistant\",\n",
        "    llm_config=llm_config,\n",
        ")\n",
        "\n",
        "\n",
        "user_proxy = autogen.UserProxyAgent(\n",
        "    name=\"user_proxy\",\n",
        "    human_input_mode=\"NEVER\",\n",
        "    max_consecutive_auto_reply=0,\n",
        "    is_termination_msg=lambda x: x.get(\"content\", \"\").rstrip().endswith(\"TERMINATE\"),\n",
        "    llm_config=llm_config,\n",
        "    code_execution_config=False,\n",
        ")\n",
        "\n",
        "chat_res = user_proxy.initiate_chat(\n",
        "    assistant,\n",
        "    message=\"Hello, who are you?\",\n",
        ")"
      ]
    }
  ],
  "metadata": {
    "colab": {
      "collapsed_sections": [
        "rbN8vai3Jj2r",
        "3b834DyFQukU",
        "TCooBofXRK47",
        "GGcmF2GL806k",
        "cGwihiZLQv6o"
      ],
      "provenance": []
    },
    "kernelspec": {
      "display_name": "Python 3",
      "name": "python3"
    },
    "language_info": {
      "codemirror_mode": {
        "name": "ipython",
        "version": 3
      },
      "file_extension": ".py",
      "mimetype": "text/x-python",
      "name": "python",
      "nbconvert_exporter": "python",
      "pygments_lexer": "ipython3",
      "version": "3.10.14"
    }
  },
  "nbformat": 4,
  "nbformat_minor": 0
}
