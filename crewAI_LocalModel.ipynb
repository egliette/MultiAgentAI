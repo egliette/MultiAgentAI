{
 "cells": [
  {
   "cell_type": "markdown",
   "metadata": {},
   "source": [
    "# 🤖 One agent sample"
   ]
  },
  {
   "cell_type": "code",
   "execution_count": 4,
   "metadata": {},
   "outputs": [],
   "source": [
    "import os\n",
    "\n",
    "\n",
    "os.environ[\"OPENAI_API_BASE\"] = \"http://localhost:1234/v1\"\n",
    "os.environ[\"OPENAI_API_KEY\"] = \"lm-studio\""
   ]
  },
  {
   "cell_type": "code",
   "execution_count": 5,
   "metadata": {},
   "outputs": [
    {
     "name": "stderr",
     "output_type": "stream",
     "text": [
      "2024-05-07 09:01:19,869 - 7388 - __init__.py-__init__:518 - WARNING: Overriding of current TracerProvider is not allowed\n"
     ]
    },
    {
     "name": "stdout",
     "output_type": "stream",
     "text": [
      "\n",
      "\n",
      "\u001b[1m> Entering new CrewAgentExecutor chain...\u001b[0m\n",
      "\u001b[32;1m\u001b[1;3m To determine the highest version of GPT models, I will search for the latest release notes or product updates from the company that developed the GPT models. This information can be found on their official website, GitHub repository, or other online platforms where they share updates and releases. Once I have identified the latest version of the GPT model, I will read through the release notes to understand its key features, improvements, and capabilities compared to previous versions.\n",
      "\n",
      "Final Answer: The highest version of GPT models is GPT-4, which was released by OpenAI on March 17th, 2023. This model has a range of capabilities beyond those of any previous version, including improved performance in various language tasks and the ability to generate high-quality text based on limited prompts.\u001b[0m\n",
      "\n",
      "\u001b[1m> Finished chain.\u001b[0m\n",
      "The highest version of GPT models is GPT-4, which was released by OpenAI on March 17th, 2023. This model has a range of capabilities beyond those of any previous version, including improved performance in various language tasks and the ability to generate high-quality text based on limited prompts.\n"
     ]
    }
   ],
   "source": [
    "from crewai import Agent, Task, Crew\n",
    "\n",
    "\n",
    "assistant = Agent(\n",
    "  role=\"You are a question-answering assistant\",\n",
    "  goal=\"Answer user's question\",\n",
    "  backstory=\"You are a helpful assistant\",\n",
    "  verbose=True,\n",
    "  cache=False,\n",
    "  max_iter=4,\n",
    ")\n",
    "\n",
    "task1 = Task(\n",
    "  description=\"what is the highest version of GPT models?\",\n",
    "  expected_output=\"A version of a GPT model\",\n",
    "  agent=assistant,\n",
    "  human_input=False,\n",
    ")\n",
    "\n",
    "crew = Crew(\n",
    "  agents=[assistant],\n",
    "  tasks=[task1],\n",
    ")\n",
    "\n",
    "result = crew.kickoff()\n",
    "print(result)"
   ]
  },
  {
   "cell_type": "markdown",
   "metadata": {},
   "source": [
    "# 🤖🤖 Mutli-agent sample"
   ]
  },
  {
   "cell_type": "code",
   "execution_count": 1,
   "metadata": {},
   "outputs": [],
   "source": [
    "from langchain_openai import ChatOpenAI\n",
    "\n",
    "\n",
    "llm = ChatOpenAI(\n",
    "  temperature=0,\n",
    "  base_url=\"http://localhost:1234/v1\",\n",
    "  api_key=\"lm-studio\",\n",
    ")"
   ]
  },
  {
   "cell_type": "code",
   "execution_count": 7,
   "metadata": {},
   "outputs": [
    {
     "name": "stderr",
     "output_type": "stream",
     "text": [
      "2024-05-07 10:02:19,783 - 12256 - __init__.py-__init__:518 - WARNING: Overriding of current TracerProvider is not allowed\n"
     ]
    },
    {
     "name": "stdout",
     "output_type": "stream",
     "text": [
      "\u001b[95m \n",
      "\n",
      "Mr. Tu is a character from a fictional story or series, and there may be multiple characters with this name. Without additional context, I cannot provide specific information about who Mr. Tu is. Could you please provide more details about the character or the story they belong to?\n",
      "\u001b[00m\n",
      "\u001b[95m \n",
      "\n",
      "Mr. Tu is a character from the fictional story or series \"FPT Software Quy Nhon\". He works at FPT Software Quy Nhon and his height is 1.76m. Unfortunately, without additional context such as the specific fictional story or series, I cannot provide more information about him.\n",
      "\u001b[00m\n",
      "Mr. Tu is a character from the fictional story or series \"FPT Software Quy Nhon\". He works at FPT Software Quy Nhon and his height is 1.76m.\n"
     ]
    }
   ],
   "source": [
    "from crewai import Agent, Task, Crew\n",
    "\n",
    "\n",
    "assistant = Agent(\n",
    "  role=\"You are a question-answering assistant\",\n",
    "  goal=\"Answer user's question\",\n",
    "  backstory=\"You are a helpful assistant\",\n",
    "  max_iter=4,\n",
    "  allow_delegation=True,\n",
    "  llm=llm,\n",
    ")\n",
    "\n",
    "private_assistant = Agent(\n",
    "  role=\"private assistant\",\n",
    "  goal=\"Provide Mr. Tu's information if needed\",\n",
    "  backstory=\"Mr. Tu's height is 1.76m, Mr. Tu is currently working at FPT Software Quy Nhon\",\n",
    "  max_iter=4,\n",
    "  allow_delegation=True,\n",
    "  llm=llm,\n",
    ")\n",
    "\n",
    "task1 = Task(\n",
    "  description=\"Who is Mr. Tu?\",\n",
    "  expected_output=\"Information about Mr. Tu\",\n",
    "  agent=assistant,\n",
    "  human_input=False,\n",
    ")\n",
    "\n",
    "crew = Crew(\n",
    "  agents=[assistant, private_assistant],\n",
    "  tasks=[task1],\n",
    "  manager_llm=llm\n",
    ")\n",
    "\n",
    "\n",
    "result = crew.kickoff()\n",
    "print(result)"
   ]
  }
 ],
 "metadata": {
  "kernelspec": {
   "display_name": "autogen",
   "language": "python",
   "name": "python3"
  },
  "language_info": {
   "codemirror_mode": {
    "name": "ipython",
    "version": 3
   },
   "file_extension": ".py",
   "mimetype": "text/x-python",
   "name": "python",
   "nbconvert_exporter": "python",
   "pygments_lexer": "ipython3",
   "version": "3.10.14"
  }
 },
 "nbformat": 4,
 "nbformat_minor": 2
}
